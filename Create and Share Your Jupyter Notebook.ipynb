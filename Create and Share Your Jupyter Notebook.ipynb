{
 "cells": [
  {
   "cell_type": "markdown",
   "metadata": {
    "collapsed": true
   },
   "source": [
    "# My Jupyter Notebook on IBM Watson Studio"
   ]
  },
  {
   "cell_type": "markdown",
   "metadata": {},
   "source": [
    "**João Guilherme de Castro**"
   ]
  },
  {
   "cell_type": "markdown",
   "metadata": {},
   "source": [
    "*I am interested in Data Science because I work as a Fraud Prevention Analyst and I would like to be able to develop machine learning models for fraud prevention solutions*"
   ]
  },
  {
   "cell_type": "markdown",
   "metadata": {},
   "source": [
    "### This code requests an integer input from the user and says if the number is ODD or EVEN"
   ]
  },
  {
   "cell_type": "code",
   "execution_count": null,
   "metadata": {},
   "outputs": [],
   "source": [
    "num = int(input(\"Enter a number: \"))  #get numerical input from user\n",
    "\n",
    "if num % 2 == 0:\n",
    "    print(f\"{num} is even\")  #if number is divisible by 2, it's even\n",
    "else:\n",
    "    print(f\"{num} is odd\")  #if number is not divisible by 2, it's odd"
   ]
  },
  {
   "cell_type": "markdown",
   "metadata": {},
   "source": [
    "-  Numbers ending in 0, 2, 4, 6, 8 are even.\n",
    "-  Numbers ending in 1, 3, 5, 7, 9 are odd.\n",
    "\n",
    "---\n",
    "\n",
    "<img src=\"https://prasadmodakblog.com/wp-content/uploads/2015/12/odd_even.jpg\"/>"
   ]
  },
  {
   "cell_type": "code",
   "execution_count": null,
   "metadata": {},
   "outputs": [],
   "source": []
  }
 ],
 "metadata": {
  "kernelspec": {
   "display_name": "Python 3.10",
   "language": "python",
   "name": "python3"
  },
  "language_info": {
   "codemirror_mode": {
    "name": "ipython",
    "version": 3
   },
   "file_extension": ".py",
   "mimetype": "text/x-python",
   "name": "python",
   "nbconvert_exporter": "python",
   "pygments_lexer": "ipython3",
   "version": "3.10.6"
  }
 },
 "nbformat": 4,
 "nbformat_minor": 1
}
